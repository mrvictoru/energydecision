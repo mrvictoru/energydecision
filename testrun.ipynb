{
 "cells": [
  {
   "cell_type": "code",
   "execution_count": 1,
   "metadata": {},
   "outputs": [],
   "source": [
    "# read csv file and print out the data\n",
    "import csv\n",
    "import sys\n",
    "import os\n",
    "import polars as pl\n",
    "import matplotlib.pyplot as plt\n",
    "import numpy as np"
   ]
  },
  {
   "cell_type": "code",
   "execution_count": 2,
   "metadata": {},
   "outputs": [
    {
     "name": "stdout",
     "output_type": "stream",
     "text": [
      "shape: (270_304, 54)\n",
      "┌──────────┬───────────┬──────────┬──────────────────────┬───┬───────┬───────┬───────┬─────────────┐\n",
      "│ Customer ┆ Generator ┆ Postcode ┆ Consumption Category ┆ … ┆ 23:00 ┆ 23:30 ┆ 0:00  ┆ Row Quality │\n",
      "│ ---      ┆ Capacity  ┆ ---      ┆ ---                  ┆   ┆ ---   ┆ ---   ┆ ---   ┆ ---         │\n",
      "│ i64      ┆ ---       ┆ i64      ┆ str                  ┆   ┆ f64   ┆ f64   ┆ f64   ┆ str         │\n",
      "│          ┆ f64       ┆          ┆                      ┆   ┆       ┆       ┆       ┆             │\n",
      "╞══════════╪═══════════╪══════════╪══════════════════════╪═══╪═══════╪═══════╪═══════╪═════════════╡\n",
      "│ 1        ┆ 3.78      ┆ 2076     ┆ CL                   ┆ … ┆ 0.0   ┆ 0.0   ┆ 1.063 ┆ null        │\n",
      "│ 1        ┆ 3.78      ┆ 2076     ┆ GC                   ┆ … ┆ 0.118 ┆ 0.219 ┆ 0.162 ┆ null        │\n",
      "│ 1        ┆ 3.78      ┆ 2076     ┆ GG                   ┆ … ┆ 0.0   ┆ 0.0   ┆ 0.0   ┆ null        │\n",
      "│ 1        ┆ 3.78      ┆ 2076     ┆ CL                   ┆ … ┆ 0.0   ┆ 0.0   ┆ 1.075 ┆ null        │\n",
      "│ 1        ┆ 3.78      ┆ 2076     ┆ GC                   ┆ … ┆ 0.224 ┆ 0.088 ┆ 0.084 ┆ null        │\n",
      "│ …        ┆ …         ┆ …        ┆ …                    ┆ … ┆ …     ┆ …     ┆ …     ┆ …           │\n",
      "│ 300      ┆ 3.36      ┆ 2086     ┆ GC                   ┆ … ┆ 0.517 ┆ 0.393 ┆ 0.226 ┆ null        │\n",
      "│ 300      ┆ 3.36      ┆ 2086     ┆ GG                   ┆ … ┆ 0.0   ┆ 0.0   ┆ 0.0   ┆ null        │\n",
      "│ 300      ┆ 3.36      ┆ 2086     ┆ CL                   ┆ … ┆ 0.0   ┆ 0.0   ┆ 2.621 ┆ null        │\n",
      "│ 300      ┆ 3.36      ┆ 2086     ┆ GC                   ┆ … ┆ 0.131 ┆ 0.358 ┆ 0.235 ┆ null        │\n",
      "│ 300      ┆ 3.36      ┆ 2086     ┆ GG                   ┆ … ┆ 0.0   ┆ 0.0   ┆ 0.0   ┆ null        │\n",
      "└──────────┴───────────┴──────────┴──────────────────────┴───┴───────┴───────┴───────┴─────────────┘\n",
      "['Customer', 'Generator Capacity', 'Postcode', 'Consumption Category', 'date', '0:30', '1:00', '1:30', '2:00', '2:30', '3:00', '3:30', '4:00', '4:30', '5:00', '5:30', '6:00', '6:30', '7:00', '7:30', '8:00', '8:30', '9:00', '9:30', '10:00', '10:30', '11:00', '11:30', '12:00', '12:30', '13:00', '13:30', '14:00', '14:30', '15:00', '15:30', '16:00', '16:30', '17:00', '17:30', '18:00', '18:30', '19:00', '19:30', '20:00', '20:30', '21:00', '21:30', '22:00', '22:30', '23:00', '23:30', '0:00', 'Row Quality']\n"
     ]
    }
   ],
   "source": [
    "datapath = '../data/2011-2012 Solar home electricity data v2.csv'\n",
    "# skip the first line in csv and read the next line as column\n",
    "# then read the rest of the file and store as dataframe\n",
    "df = pl.read_csv(datapath, skip_rows=1)\n",
    "print(df)\n",
    "print(df.columns)"
   ]
  },
  {
   "cell_type": "code",
   "execution_count": 3,
   "metadata": {},
   "outputs": [
    {
     "data": {
      "image/png": "[encoded data removed]",
      "text/plain": [
       "<Figure size 640x480 with 1 Axes>"
      ]
     },
     "metadata": {},
     "output_type": "display_data"
    }
   ],
   "source": [
    "# show me different values in 'Generator Capacity'\n",
    "GenCap = df['Generator Capacity'].unique()\n",
    "\n",
    "# plot histogram of 'Generator Capacity'\n",
    "plt.hist(GenCap, bins=20)\n",
    "plt.xlabel('Generator Capacity')\n",
    "plt.ylabel('Frequency')\n",
    "plt.title('Histogram of Generator Capacity')\n",
    "plt.show()\n"
   ]
  },
  {
   "cell_type": "code",
   "execution_count": 3,
   "metadata": {},
   "outputs": [],
   "source": [
    "from helper import transform_polars_df\n",
    "\n",
    "# get all the unique customers as their own dataframes\n",
    "customers = df['Customer'].unique()\n",
    "# pick 80% of the random customers as training data\n",
    "training_customers = np.random.choice(customers, int(0.8*len(customers)), replace=False)\n",
    "# the rest of the customers are testing data\n",
    "testing_customers = np.setdiff1d(customers, training_customers)"
   ]
  },
  {
   "cell_type": "code",
   "execution_count": 4,
   "metadata": {},
   "outputs": [],
   "source": [
    "# loop through each customer and use transform_polars_df to get the dataframe and store it in a list call dataset\n",
    "training_dataset = []\n",
    "for customer in training_customers:\n",
    "    customer_df = df.filter(pl.col('Customer') == customer)\n",
    "    try:\n",
    "        newcustomerdf = transform_polars_df(customer_df, import_energy_price=0.15, export_energy_price=0.1, price_periods=\"7am – 10am | 4pm – 9pm\", default_import_energy_price=0.1, default_export_energy_price=0.08)\n",
    "    except:\n",
    "        print(f\"Error with customer {customer}\")\n",
    "        break\n",
    "    training_dataset.append(newcustomerdf)\n",
    "\n",
    "testing_dataset = []\n",
    "for customer in testing_customers:\n",
    "    customer_df = df.filter(pl.col('Customer') == customer)\n",
    "    try:\n",
    "        newcustomerdf = transform_polars_df(customer_df, import_energy_price=0.15, export_energy_price=0.1, price_periods=\"7am – 10am | 4pm – 9pm\", default_import_energy_price=0.1, default_export_energy_price=0.08)\n",
    "    except:\n",
    "        print(f\"Error with customer {customer}\")\n",
    "        break\n",
    "    testing_dataset.append(newcustomerdf)\n"
   ]
  },
  {
   "cell_type": "code",
   "execution_count": 5,
   "metadata": {},
   "outputs": [
    {
     "name": "stdout",
     "output_type": "stream",
     "text": [
      "['Time', 'SolarGen', 'HouseLoad', 'FutureSolar', 'FutureLoad', 'ImportEnergyPrice', 'ExportEnergyPrice']\n",
      "shape: (5, 7)\n",
      "┌────────────────┬──────────┬───────────┬─────────────┬────────────┬───────────────┬───────────────┐\n",
      "│ Time           ┆ SolarGen ┆ HouseLoad ┆ FutureSolar ┆ FutureLoad ┆ ImportEnergyP ┆ ExportEnergyP │\n",
      "│ ---            ┆ ---      ┆ ---       ┆ ---         ┆ ---        ┆ rice          ┆ rice          │\n",
      "│ i64            ┆ f64      ┆ f64       ┆ f64         ┆ f64        ┆ ---           ┆ ---           │\n",
      "│                ┆          ┆           ┆             ┆            ┆ f64           ┆ f64           │\n",
      "╞════════════════╪══════════╪═══════════╪═════════════╪════════════╪═══════════════╪═══════════════╡\n",
      "│ 13094784000000 ┆ 0.0      ┆ 0.144     ┆ 0.0         ┆ 0.131      ┆ 0.1           ┆ 0.08          │\n",
      "│ 00             ┆          ┆           ┆             ┆            ┆               ┆               │\n",
      "│ 13094802000000 ┆ 0.0      ┆ 0.131     ┆ 0.0         ┆ 0.144      ┆ 0.1           ┆ 0.08          │\n",
      "│ 00             ┆          ┆           ┆             ┆            ┆               ┆               │\n",
      "│ 13094820000000 ┆ 0.0      ┆ 0.144     ┆ 0.0         ┆ 0.131      ┆ 0.1           ┆ 0.08          │\n",
      "│ 00             ┆          ┆           ┆             ┆            ┆               ┆               │\n",
      "│ 13094838000000 ┆ 0.0      ┆ 0.131     ┆ 0.0         ┆ 0.138      ┆ 0.1           ┆ 0.08          │\n",
      "│ 00             ┆          ┆           ┆             ┆            ┆               ┆               │\n",
      "│ 13094856000000 ┆ 0.0      ┆ 0.138     ┆ 0.0         ┆ 0.144      ┆ 0.1           ┆ 0.08          │\n",
      "│ 00             ┆          ┆           ┆             ┆            ┆               ┆               │\n",
      "└────────────────┴──────────┴───────────┴─────────────┴────────────┴───────────────┴───────────────┘\n"
     ]
    }
   ],
   "source": [
    "customerdf = training_dataset[0]\n",
    "# check for index of df\n",
    "print(customerdf.columns)\n",
    "print(customerdf.head())\n"
   ]
  },
  {
   "cell_type": "code",
   "execution_count": 5,
   "metadata": {},
   "outputs": [
    {
     "name": "stderr",
     "output_type": "stream",
     "text": [
      "/usr/local/lib/python3.10/dist-packages/gymnasium/spaces/box.py:235: UserWarning: \u001b[33mWARN: Box low's precision lowered by casting to float32, current low.dtype=float64\u001b[0m\n",
      "  gym.logger.warn(\n",
      "/usr/local/lib/python3.10/dist-packages/gymnasium/spaces/box.py:305: UserWarning: \u001b[33mWARN: Box high's precision lowered by casting to float32, current high.dtype=float64\u001b[0m\n",
      "  gym.logger.warn(\n"
     ]
    },
    {
     "name": "stdout",
     "output_type": "stream",
     "text": [
      "Using cpu device\n"
     ]
    },
    {
     "name": "stderr",
     "output_type": "stream",
     "text": [
      "/code/src/batterydeg.py:90: RuntimeWarning: divide by zero encountered in scalar divide\n",
      "  return 1 / degradation_factor\n"
     ]
    },
    {
     "name": "stdout",
     "output_type": "stream",
     "text": [
      "-------------------------------\n",
      "| time/              |        |\n",
      "|    fps             | 26084  |\n",
      "|    iterations      | 1      |\n",
      "|    time_elapsed    | 18     |\n",
      "|    total_timesteps | 491520 |\n",
      "-------------------------------\n"
     ]
    },
    {
     "name": "stderr",
     "output_type": "stream",
     "text": [
      "/usr/local/lib/python3.10/dist-packages/numpy/_core/_methods.py:197: RuntimeWarning: overflow encountered in multiply\n",
      "  x = um.multiply(x, x, out=x)\n",
      "/usr/local/lib/python3.10/dist-packages/stable_baselines3/common/utils.py:66: RuntimeWarning: invalid value encountered in scalar divide\n",
      "  return np.nan if var_y == 0 else float(1 - np.var(y_true - y_pred) / var_y)\n"
     ]
    },
    {
     "name": "stdout",
     "output_type": "stream",
     "text": [
      "Using cuda device\n"
     ]
    },
    {
     "name": "stderr",
     "output_type": "stream",
     "text": [
      "/usr/local/lib/python3.10/dist-packages/stable_baselines3/common/on_policy_algorithm.py:150: UserWarning: You are trying to run A2C on the GPU, but it is primarily intended to run on the CPU when not using a CNN policy (you are using ActorCriticPolicy which should be a MlpPolicy). See https://github.com/DLR-RM/stable-baselines3/issues/1245 for more info. You can pass `device='cpu'` or `export CUDA_VISIBLE_DEVICES=` to force using the CPU.Note: The model will train, but the GPU utilization will be poor and the training might take longer than on CPU.\n",
      "  warnings.warn(\n"
     ]
    },
    {
     "name": "stdout",
     "output_type": "stream",
     "text": [
      "Training complete. Both PPO and A2C agents are saved.\n"
     ]
    }
   ],
   "source": [
    "import gymnasium as gym\n",
    "from stable_baselines3 import PPO, A2C\n",
    "from stable_baselines3.common.vec_env import DummyVecEnv\n",
    "from EnergySimEnv import SolarBatteryEnv\n",
    "\n",
    "\n",
    "# Helper: create an environment instance from a dataset.\n",
    "def make_env(dataset):\n",
    "    def _init():\n",
    "        env = SolarBatteryEnv(dataset)\n",
    "        return env\n",
    "    return _init\n",
    "\n",
    "# Create a list of environment creation functions to build a vectorized environment.\n",
    "env_fns = [make_env(ds) for ds in training_dataset]\n",
    "vec_env = DummyVecEnv(env_fns)\n",
    "\n",
    "\n",
    "# Train first agent with PPO\n",
    "ppo_model = PPO(\"MlpPolicy\", vec_env, verbose=1, device='cpu')\n",
    "ppo_model.learn(total_timesteps=10000)\n",
    "ppo_model.save(\"ppo_agent\")\n",
    "\n",
    "# Train second agent with A2C (different policy/algorithm)\n",
    "a2c_model = A2C(\"MlpPolicy\", vec_env, verbose=1)\n",
    "a2c_model.learn(total_timesteps=10000)\n",
    "a2c_model.save(\"a2c_agent\")\n",
    "\n",
    "print(\"Training complete. Both PPO and A2C agents are saved.\")\n"
   ]
  }
 ],
 "metadata": {
  "kernelspec": {
   "display_name": "Python 3 (ipykernel)",
   "language": "python",
   "name": "python3"
  }
 },
 "nbformat": 4,
 "nbformat_minor": 2
}
